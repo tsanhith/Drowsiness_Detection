{
 "cells": [
  {
   "cell_type": "code",
   "execution_count": 21,
   "id": "90134f24-77b1-4634-97dc-5b5d15812b88",
   "metadata": {},
   "outputs": [],
   "source": [
    "import cv2\n",
    "import os\n",
    "import numpy as np\n",
    "\n",
    "def augment_image(image):\n",
    "    augmented_images = []\n",
    "\n",
    "    # Original\n",
    "    augmented_images.append(image)\n",
    "\n",
    "    # Horizontal flip\n",
    "    h_flip = cv2.flip(image, 1)\n",
    "    augmented_images.append(h_flip)\n",
    "\n",
    "    # Vertical flip\n",
    "    v_flip = cv2.flip(image, 0)\n",
    "    augmented_images.append(v_flip)\n",
    "\n",
    "    # Rotation\n",
    "    rows, cols, _ = image.shape\n",
    "    rotation_matrix = cv2.getRotationMatrix2D((cols/2, rows/2), 90, 1)\n",
    "    rotated_image = cv2.warpAffine(image, rotation_matrix, (cols, rows))\n",
    "    augmented_images.append(rotated_image)\n",
    "\n",
    "    # Scaling\n",
    "    scaled_image = cv2.resize(image, None, fx=1.2, fy=1.2)\n",
    "    augmented_images.append(scaled_image)\n",
    "\n",
    "    # Brightness adjustment\n",
    "    bright_image = cv2.convertScaleAbs(image, alpha=1.5, beta=0)\n",
    "    augmented_images.append(bright_image)\n",
    "\n",
    "    return augmented_images\n",
    "\n",
    "# Path to the folder containing extracted frames\n",
    "frames_path = r\"C:\\Users\\Kalivemula Rajendra\\Desktop\\rajendra\\pictures\"\n",
    "augmented_path = r\"C:\\Users\\Kalivemula Rajendra\\Desktop\\rajendra\\pictures\"\n",
    "\n",
    "# Make sure the augmented directory exists\n",
    "if not os.path.exists(augmented_path):\n",
    "    os.makedirs(augmented_path)\n",
    "\n",
    "# Process each frame in the directory\n",
    "for frame_file in os.listdir(frames_path):\n",
    "    if frame_file.endswith(\".png\"):\n",
    "        frame_path = os.path.join(frames_path, frame_file)\n",
    "        frame = cv2.imread(frame_path)\n",
    "\n",
    "        augmented_images = augment_image(frame)\n",
    "        \n",
    "        # Save augmented images\n",
    "        for i, aug_img in enumerate(augmented_images):\n",
    "            aug_file_path = os.path.join(augmented_path, f\"{os.path.splitext(frame_file)[0]}_aug{i}.png\")\n",
    "            cv2.imwrite(aug_file_path, aug_img)"
   ]
  }
 ],
 "metadata": {
  "kernelspec": {
   "display_name": "Python 3 (ipykernel)",
   "language": "python",
   "name": "python3"
  },
  "language_info": {
   "codemirror_mode": {
    "name": "ipython",
    "version": 3
   },
   "file_extension": ".py",
   "mimetype": "text/x-python",
   "name": "python",
   "nbconvert_exporter": "python",
   "pygments_lexer": "ipython3",
   "version": "3.11.7"
  }
 },
 "nbformat": 4,
 "nbformat_minor": 5
}
